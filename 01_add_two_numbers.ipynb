{
  "nbformat": 4,
  "nbformat_minor": 0,
  "metadata": {
    "colab": {
      "provenance": [],
      "authorship_tag": "ABX9TyMaJn6IoRG8POBl5MNh6B5F",
      "include_colab_link": true
    },
    "kernelspec": {
      "name": "python3",
      "display_name": "Python 3"
    },
    "language_info": {
      "name": "python"
    }
  },
  "cells": [
    {
      "cell_type": "markdown",
      "metadata": {
        "id": "view-in-github",
        "colab_type": "text"
      },
      "source": [
        "<a href=\"https://colab.research.google.com/github/kashfshameen/00_intro_python/blob/main/01_add_two_numbers.ipynb\" target=\"_parent\"><img src=\"https://colab.research.google.com/assets/colab-badge.svg\" alt=\"Open In Colab\"/></a>"
      ]
    },
    {
      "cell_type": "code",
      "execution_count": null,
      "metadata": {
        "id": "DOUzVWUmV3mH"
      },
      "outputs": [],
      "source": []
    },
    {
      "cell_type": "markdown",
      "source": [],
      "metadata": {
        "id": "WTjCagcNWxBR"
      }
    },
    {
      "cell_type": "markdown",
      "source": [
        "Write a Python program that takes two integer inputs from the user and calculates their sum. The program should perform the following tasks:\n",
        "\n",
        "Prompt the user to enter the first number.\n",
        "\n",
        "Read the input and convert it to an integer.\n",
        "\n",
        "Prompt the user to enter the second number.\n",
        "\n",
        "Read the input and convert it to an integer.\n",
        "\n",
        "Calculate the sum of the two numbers.\n",
        "\n",
        "Print the total sum with an appropriate message."
      ],
      "metadata": {
        "id": "JeUuq3a6W0ty"
      }
    },
    {
      "cell_type": "code",
      "source": [
        "first_number=input(\"enter first number\")\n",
        "first_number=int(first_number)\n",
        "print(first_number)\n",
        "second_number=int(input(\"enter second number\"))\n",
        "def sum(a:int, b:int):\n",
        "  print(f\"the sum of {a} and {b} is {a+b}\")\n",
        "sum(first_number, second_number)\n"
      ],
      "metadata": {
        "colab": {
          "base_uri": "https://localhost:8080/"
        },
        "id": "4nXdFgTXW6Cs",
        "outputId": "c9f330db-f9e4-434c-8546-5731298ff4cb"
      },
      "execution_count": 3,
      "outputs": [
        {
          "output_type": "stream",
          "name": "stdout",
          "text": [
            "enter first number12\n",
            "12\n",
            "enter second number12\n",
            "the sum of 12 and 12 is 24\n"
          ]
        }
      ]
    }
  ]
}